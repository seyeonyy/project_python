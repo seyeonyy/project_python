{
 "cells": [
  {
   "cell_type": "code",
   "execution_count": 1,
   "id": "db523126-3222-4487-a9ba-65601a853f71",
   "metadata": {},
   "outputs": [
    {
     "name": "stdout",
     "output_type": "stream",
     "text": [
      "5\n"
     ]
    },
    {
     "name": "stdin",
     "output_type": "stream",
     "text": [
      "Want to roll dice again? Type \"yes\" to roll dice:  yes\n"
     ]
    },
    {
     "name": "stdout",
     "output_type": "stream",
     "text": [
      "3\n"
     ]
    },
    {
     "name": "stdin",
     "output_type": "stream",
     "text": [
      "Want to roll dice again? Type \"yes\" to roll dice:  no\n"
     ]
    }
   ],
   "source": [
    "import random\n",
    "\n",
    "# Step 1: Create a dice class with a roll function\n",
    "class Dice:\n",
    "    # Step 2: Define the roll function - Function should randomly select a function between 1-6\n",
    "    def roll(self):\n",
    "        roll = []\n",
    "        # Roll function to select a number between 1-6\n",
    "        for elem in range(1, 7):\n",
    "            roll.append(elem)\n",
    "            # print(roll)\n",
    "        computer = random.choice(roll)\n",
    "        \n",
    "        # Step 3: Display number to the user\n",
    "        return computer        \n",
    "\n",
    "\n",
    "# Game Loop\n",
    "while True:\n",
    "    d = Dice()\n",
    "    print(d.roll())\n",
    "    another_roll = input('Want to roll dice again? Type \"yes\" to roll dice: ')\n",
    "    if another_roll.lower() == 'yes':\n",
    "        continue\n",
    "    else:\n",
    "        break\n",
    "\n",
    "\n",
    "    \n",
    "\n",
    "\n",
    "# Step 4: Ask user of he/she would like to roll again"
   ]
  },
  {
   "cell_type": "code",
   "execution_count": null,
   "id": "6bfb1982-f314-4cc9-9568-e8031a8b1633",
   "metadata": {},
   "outputs": [],
   "source": []
  }
 ],
 "metadata": {
  "kernelspec": {
   "display_name": "Python 3 (ipykernel)",
   "language": "python",
   "name": "python3"
  },
  "language_info": {
   "codemirror_mode": {
    "name": "ipython",
    "version": 3
   },
   "file_extension": ".py",
   "mimetype": "text/x-python",
   "name": "python",
   "nbconvert_exporter": "python",
   "pygments_lexer": "ipython3",
   "version": "3.9.12"
  }
 },
 "nbformat": 4,
 "nbformat_minor": 5
}
