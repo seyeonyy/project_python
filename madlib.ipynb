{
 "cells": [
  {
   "cell_type": "code",
   "execution_count": 1,
   "id": "2b774af5-775b-45ef-a98c-acbc22c63742",
   "metadata": {},
   "outputs": [
    {
     "name": "stdin",
     "output_type": "stream",
     "text": [
      "Please type in an adjective:  interesting\n",
      "Please type in a verb:  see\n",
      "Please type in another verb:  stay cool\n",
      "Please type in a famous person:  mola\n"
     ]
    }
   ],
   "source": [
    "adj = input(\"Please type in an adjective: \")\n",
    "verb1 = input(\"Please type in a verb: \")\n",
    "verb2 = input(\"Please type in another verb: \")\n",
    "famous_person = input(\"Please type in a famous person: \")"
   ]
  },
  {
   "cell_type": "code",
   "execution_count": 2,
   "id": "d98ea36f-7d68-4506-9807-08829fbabf25",
   "metadata": {},
   "outputs": [],
   "source": [
    "madlib = \"Computer programming is so {0}, it makes me so excited all the time because I love to {1}. Stay hydrated and {2} like you are {3}\".format(adj, verb1, verb2, famous_person)"
   ]
  },
  {
   "cell_type": "code",
   "execution_count": 3,
   "id": "ce1c1e0b-307a-4fa2-a5f7-7bf077fe5617",
   "metadata": {},
   "outputs": [
    {
     "name": "stdout",
     "output_type": "stream",
     "text": [
      "Computer programming is so interesting, it makes me so excited all the time because I love to see. Stay hydrated and stay cool like you are mola\n"
     ]
    }
   ],
   "source": [
    "print(madlib)"
   ]
  },
  {
   "cell_type": "code",
   "execution_count": null,
   "id": "1d8dd9d3-e9a6-4e07-b47b-6eb80edf9627",
   "metadata": {},
   "outputs": [],
   "source": []
  }
 ],
 "metadata": {
  "kernelspec": {
   "display_name": "Python 3 (ipykernel)",
   "language": "python",
   "name": "python3"
  },
  "language_info": {
   "codemirror_mode": {
    "name": "ipython",
    "version": 3
   },
   "file_extension": ".py",
   "mimetype": "text/x-python",
   "name": "python",
   "nbconvert_exporter": "python",
   "pygments_lexer": "ipython3",
   "version": "3.9.12"
  }
 },
 "nbformat": 4,
 "nbformat_minor": 5
}
