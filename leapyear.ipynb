{
 "cells": [
  {
   "cell_type": "code",
   "execution_count": 3,
   "id": "5ccc345e-96e8-4ea2-813c-e3a81baff4f5",
   "metadata": {},
   "outputs": [
    {
     "name": "stdin",
     "output_type": "stream",
     "text": [
      "Enter the number:  2024\n"
     ]
    },
    {
     "name": "stdout",
     "output_type": "stream",
     "text": [
      "Given Year is a leap Year\n"
     ]
    }
   ],
   "source": [
    "# Default function to implement conditions to check leap year\n",
    "\n",
    "def CheckLeap(Year):  \n",
    "  # Checking if the given year is leap year  \n",
    "  if((Year % 400 == 0) or  \n",
    "     (Year % 100 != 0) and  \n",
    "     (Year % 4 == 0)):   \n",
    "    print(\"Given Year is a leap Year\");  \n",
    "  # Else it is not a leap year  \n",
    "  else:  \n",
    "    print (\"Given Year is not a leap Year\")  \n",
    "# Taking an input year from user  \n",
    "Year = int(input(\"Enter the number: \"))  \n",
    "# Printing result  \n",
    "CheckLeap(Year)  "
   ]
  },
  {
   "cell_type": "code",
   "execution_count": null,
   "id": "48baa009-6d75-4de7-9981-ebe125087457",
   "metadata": {},
   "outputs": [],
   "source": []
  }
 ],
 "metadata": {
  "kernelspec": {
   "display_name": "Python 3 (ipykernel)",
   "language": "python",
   "name": "python3"
  },
  "language_info": {
   "codemirror_mode": {
    "name": "ipython",
    "version": 3
   },
   "file_extension": ".py",
   "mimetype": "text/x-python",
   "name": "python",
   "nbconvert_exporter": "python",
   "pygments_lexer": "ipython3",
   "version": "3.9.12"
  }
 },
 "nbformat": 4,
 "nbformat_minor": 5
}
