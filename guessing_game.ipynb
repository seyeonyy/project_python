{
 "cells": [
  {
   "cell_type": "code",
   "execution_count": 1,
   "id": "0797c5c9-e7c2-47ff-bdce-cb07e12e40ee",
   "metadata": {},
   "outputs": [
    {
     "data": {
      "text/plain": [
       "'\\nNumber Guessing Game - A program in which the computer randomly chooses a number between 1-n\\n\\nRules:\\n* Everytime a user guesses wrong, his score is reduced and he gets a clue\\n* Clues can be multiples, divisions, factors and so on\\n'"
      ]
     },
     "execution_count": 1,
     "metadata": {},
     "output_type": "execute_result"
    }
   ],
   "source": [
    "'''\n",
    "Number Guessing Game - A program in which the computer randomly chooses a number between 1-n\n",
    "\n",
    "Rules:\n",
    "* Everytime a user guesses wrong, his score is reduced and he gets a clue\n",
    "* Clues can be multiples, divisions, factors and so on\n",
    "'''"
   ]
  },
  {
   "cell_type": "code",
   "execution_count": 2,
   "id": "ab169f7b-bdcc-4c1e-a462-7d6617c82320",
   "metadata": {},
   "outputs": [],
   "source": [
    "import random\n",
    "import math\n",
    "\n",
    "# Step 1: Computer generates random number between 1-10 (Value is a multiple of 2 (even number))\n",
    "\n",
    "def random_number():\n",
    "    even = []\n",
    "    for elem in range(1, 10):\n",
    "        if elem % 2 == 0:\n",
    "            even.append(elem)\n",
    "            computer = random.choice(even)\n",
    "    return computer"
   ]
  },
  {
   "cell_type": "code",
   "execution_count": 3,
   "id": "893762b7-be1d-4ade-a7bf-2b6ff575b6a4",
   "metadata": {},
   "outputs": [],
   "source": [
    "# Step 2: Computer asks user to guess a number between 1-n. Computer gives user a hint (Computer takes in user's guess and compares it to its selected number)\n",
    "\n",
    "def check_guess():\n",
    "    print('Guess a number between 1-10. You have 3 tries (Hint: The value is an even number between 1-10)')\n",
    "    guess = int(input('Enter number: '))\n",
    "    \n",
    "    value = random_number()\n",
    "        \n",
    "    if win(guess, value):\n",
    "        return (1, guess, value)\n",
    "    \n",
    "    # Checks and clues for when user loses\n",
    "    if guess < value:\n",
    "        return (-1, guess, value)\n",
    "    else:\n",
    "        return (-1, guess, value)"
   ]
  },
  {
   "cell_type": "code",
   "execution_count": 4,
   "id": "221d46b0-b3fa-4f5e-a514-1942afb34a1b",
   "metadata": {},
   "outputs": [],
   "source": [
    "# Step 3: Create win() helper function\n",
    "def win(guess, value):\n",
    "    if guess == value:\n",
    "        return True\n",
    "    return False"
   ]
  },
  {
   "cell_type": "code",
   "execution_count": 5,
   "id": "e816359e-b3f2-4e6d-a827-f4e5dcfc9ae8",
   "metadata": {},
   "outputs": [],
   "source": [
    "# Step 4:\n",
    "#Play Best of game()\n",
    "def best_of(n):\n",
    "    player_wins = 0\n",
    "    opponent_wins = 0\n",
    "    wins_necessary = math.ceil(n/2)\n",
    "    \n",
    "    while (player_wins < wins_necessary and opponent_wins < wins_necessary):\n",
    "        (result, guess, value) = check_guess()\n",
    "        \n",
    "        # Win\n",
    "        if(result == 1):\n",
    "            player_wins += 1\n",
    "            print(\"You and the computer have chosen {}. You win\\n\".format(value))\n",
    "        \n",
    "        # Lose (low)\n",
    "        elif ((result == -1) and (guess < value)):\n",
    "            opponent_wins += 1\n",
    "            print(\"Guess too low.\")\n",
    "            # print(\"You have chosen {} and the computer has chosen {}. You lose\\n\".format(guess, value))\n",
    "            \n",
    "        else:\n",
    "            opponent_wins += 1\n",
    "            print(\"Guess too high.\")\n",
    "            # print(\"You have chosen {} and the computer has chosen {}. You lose\\n\".format(guess, value))\n",
    "            \n",
    "    if (player_wins > opponent_wins):\n",
    "        print(\"You have won the best out {} games. What a champ!\".format(n))\n",
    "    else:\n",
    "        print(\"Unfortunately, the computer has won the best out {} games. Try again later\".format(n))"
   ]
  },
  {
   "cell_type": "code",
   "execution_count": 6,
   "id": "3cf43558-0a20-44a4-86f6-c0f97fbe5209",
   "metadata": {},
   "outputs": [
    {
     "name": "stdout",
     "output_type": "stream",
     "text": [
      "Guess a number between 1-10. You have 3 tries (Hint: The value is an even number between 1-10)\n"
     ]
    },
    {
     "name": "stdin",
     "output_type": "stream",
     "text": [
      "Enter number:  6\n"
     ]
    },
    {
     "name": "stdout",
     "output_type": "stream",
     "text": [
      "You and the computer have chosen 6. You win\n",
      "\n",
      "Guess a number between 1-10. You have 3 tries (Hint: The value is an even number between 1-10)\n"
     ]
    },
    {
     "name": "stdin",
     "output_type": "stream",
     "text": [
      "Enter number:  7\n"
     ]
    },
    {
     "name": "stdout",
     "output_type": "stream",
     "text": [
      "Guess too low.\n",
      "Guess a number between 1-10. You have 3 tries (Hint: The value is an even number between 1-10)\n"
     ]
    },
    {
     "name": "stdin",
     "output_type": "stream",
     "text": [
      "Enter number:  8\n"
     ]
    },
    {
     "name": "stdout",
     "output_type": "stream",
     "text": [
      "Guess too high.\n",
      "Unfortunately, the computer has won the best out 3 games. Try again later\n"
     ]
    }
   ],
   "source": [
    "#Initiate game\n",
    "if __name__ == '__main__':\n",
    "    best_of(3)"
   ]
  },
  {
   "cell_type": "code",
   "execution_count": null,
   "id": "c3daa2f0-3f2f-4992-ab98-990e182385ed",
   "metadata": {},
   "outputs": [],
   "source": []
  }
 ],
 "metadata": {
  "kernelspec": {
   "display_name": "Python 3 (ipykernel)",
   "language": "python",
   "name": "python3"
  },
  "language_info": {
   "codemirror_mode": {
    "name": "ipython",
    "version": 3
   },
   "file_extension": ".py",
   "mimetype": "text/x-python",
   "name": "python",
   "nbconvert_exporter": "python",
   "pygments_lexer": "ipython3",
   "version": "3.9.12"
  }
 },
 "nbformat": 4,
 "nbformat_minor": 5
}
