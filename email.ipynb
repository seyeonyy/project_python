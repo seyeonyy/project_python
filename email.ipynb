{
 "cells": [
  {
   "cell_type": "code",
   "execution_count": 2,
   "id": "a33b5a22-c388-42b9-94a4-8c5fd466df2d",
   "metadata": {},
   "outputs": [
    {
     "name": "stdin",
     "output_type": "stream",
     "text": [
      "이메일을 입력해주세요:  tpdusrl@naver.com\n"
     ]
    },
    {
     "name": "stdout",
     "output_type": "stream",
     "text": [
      "tpdusrl\n",
      "naver.com\n",
      "naver\n",
      "아이디는 tpdusrl이며, 도메인 주소는 naver.com, 그리고 사이트는 naver입니다.\n"
     ]
    }
   ],
   "source": [
    "email = input(\"이메일을 입력해주세요: \")\n",
    "\n",
    "id = email[0:email.index('@')]\n",
    "print(id)\n",
    "\n",
    "domain = email[email.index('@')+1:]\n",
    "print(domain)\n",
    "\n",
    "site = domain[:domain.index('.')]\n",
    "print(site)\n",
    "\n",
    "print(\"아이디는 {0}이며, 도메인 주소는 {1}, 그리고 사이트는 {2}입니다.\".format(id, domain, site))"
   ]
  },
  {
   "cell_type": "code",
   "execution_count": null,
   "id": "ba843f73-9e10-44d1-af72-f0d7b7e47e53",
   "metadata": {},
   "outputs": [],
   "source": []
  }
 ],
 "metadata": {
  "kernelspec": {
   "display_name": "Python 3 (ipykernel)",
   "language": "python",
   "name": "python3"
  },
  "language_info": {
   "codemirror_mode": {
    "name": "ipython",
    "version": 3
   },
   "file_extension": ".py",
   "mimetype": "text/x-python",
   "name": "python",
   "nbconvert_exporter": "python",
   "pygments_lexer": "ipython3",
   "version": "3.9.12"
  }
 },
 "nbformat": 4,
 "nbformat_minor": 5
}
